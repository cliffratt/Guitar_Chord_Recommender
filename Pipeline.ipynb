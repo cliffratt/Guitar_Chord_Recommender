{
 "cells": [
  {
   "cell_type": "markdown",
   "metadata": {},
   "source": [
    "# Imports"
   ]
  },
  {
   "cell_type": "code",
   "execution_count": 109,
   "metadata": {},
   "outputs": [],
   "source": [
    "import requests\n",
    "from bs4 import BeautifulSoup as bs\n",
    "import re\n",
    "import json\n",
    "import numpy as np\n",
    "import pandas as pd\n",
    "import zipfile\n",
    "import sys\n",
    "import requests\n",
    "import nltk\n",
    "from nltk.sentiment import SentimentAnalyzer\n",
    "sa = SentimentAnalyzer()\n",
    "from nltk.classify import NaiveBayesClassifier\n",
    "from nltk.corpus import subjectivity\n",
    "from nltk.sentiment.util import *\n",
    "from nltk.sentiment.vader import SentimentIntensityAnalyzer\n",
    "from nltk import tokenize\n",
    "sid = SentimentIntensityAnalyzer()\n",
    "from selenium.webdriver import Firefox\n",
    "import random\n",
    "import time\n",
    "import warnings\n",
    "import pymongo\n",
    "import pickle\n",
    "from functools import reduce\n",
    "from selenium.common.exceptions import TimeoutException\n",
    "from pyspark.ml.recommendation import ALS, ALSModel\n",
    "from pyspark.ml.tuning import CrossValidator\n",
    "from pyspark.sql.types import (\n",
    "    IntegerType, StringType, IntegerType, FloatType, \n",
    "    StructField, StructType, DoubleType)\n",
    "from gc_functions import (get_keys, launch_spotipy, scrape_explore_page, build_most_popular, \n",
    "                          build_highest_rated, combine_and_remove_duplicates, print_sentiments, \n",
    "                          extract_user_comments, get_all_comments, get_tab_idxs, new_user_predict, \n",
    "                          check_db_size, sleep, make_url_list, get_data, get_comments, load_commentlist, \n",
    "                          store_commentlist, scrape_comments, download_mongodb, assign_id_numbers)"
   ]
  },
  {
   "cell_type": "markdown",
   "metadata": {},
   "source": [
    "# Initialize Mongodb, Spotipy"
   ]
  },
  {
   "cell_type": "code",
   "execution_count": 2,
   "metadata": {},
   "outputs": [],
   "source": [
    "mongostring, myclientid, myclientsecret = get_keys()\n",
    "mc = pymongo.MongoClient(mongostring)\n",
    "sp = launch_spotipy(myclientid, myclientsecret)"
   ]
  },
  {
   "cell_type": "markdown",
   "metadata": {},
   "source": [
    "# Build tables for most popular and highest rated tabs"
   ]
  },
  {
   "cell_type": "code",
   "execution_count": 3,
   "metadata": {},
   "outputs": [],
   "source": [
    "#ratedtable = build_highest_rated()\n",
    "#ratedtable.shape\n",
    "#ratedtable.to_csv('ratedtable.csv', sep='~')\n",
    "ratedtable = pd.read_csv('ratedtable.csv', sep='~', usecols = ['artist_name', 'artist_url', 'date', 'id', 'part', 'preset_id',\n",
    "       'rating', 'recording', 'song_name', 'status', 'tab_access_type',\n",
    "       'tab_url', 'tonality_name', 'tp_version', 'type', 'type_name',\n",
    "       'verified', 'version', 'version_description', 'votes'])"
   ]
  },
  {
   "cell_type": "code",
   "execution_count": 4,
   "metadata": {},
   "outputs": [],
   "source": [
    "#poptable = build_most_popular()\n",
    "#poptable.shape\n",
    "#poptable.to_csv('poptable.csv', sep='~')\n",
    "poptable = pd.read_csv('poptable.csv', sep='~', usecols = ['artist_name', 'artist_url', 'date', 'id', 'part', 'preset_id',\n",
    "       'rating', 'recording', 'song_name', 'status', 'tab_access_type',\n",
    "       'tab_url', 'tonality_name', 'tp_version', 'type', 'type_name',\n",
    "       'verified', 'version', 'version_description', 'votes'])"
   ]
  },
  {
   "cell_type": "markdown",
   "metadata": {},
   "source": [
    "# Combine tables and extract urllist"
   ]
  },
  {
   "cell_type": "code",
   "execution_count": 5,
   "metadata": {},
   "outputs": [
    {
     "data": {
      "text/plain": [
       "(1429, 20)"
      ]
     },
     "execution_count": 5,
     "metadata": {},
     "output_type": "execute_result"
    }
   ],
   "source": [
    "combinedtable = combine_and_remove_duplicates(poptable, ratedtable)\n",
    "combinedtable.shape"
   ]
  },
  {
   "cell_type": "code",
   "execution_count": 6,
   "metadata": {},
   "outputs": [],
   "source": [
    "urllist = make_url_list(combinedtable)"
   ]
  },
  {
   "cell_type": "markdown",
   "metadata": {},
   "source": [
    "# Autoscraping"
   ]
  },
  {
   "cell_type": "code",
   "execution_count": 7,
   "metadata": {},
   "outputs": [],
   "source": [
    "#get_data(urllist, mc)"
   ]
  },
  {
   "cell_type": "markdown",
   "metadata": {},
   "source": [
    "# Check Database Size"
   ]
  },
  {
   "cell_type": "code",
   "execution_count": 8,
   "metadata": {},
   "outputs": [
    {
     "data": {
      "text/plain": [
       "540"
      ]
     },
     "execution_count": 8,
     "metadata": {},
     "output_type": "execute_result"
    }
   ],
   "source": [
    "check_db_size(mc)"
   ]
  },
  {
   "cell_type": "markdown",
   "metadata": {},
   "source": [
    "# Download Database"
   ]
  },
  {
   "cell_type": "code",
   "execution_count": 9,
   "metadata": {},
   "outputs": [
    {
     "data": {
      "text/plain": [
       "541"
      ]
     },
     "execution_count": 9,
     "metadata": {},
     "output_type": "execute_result"
    }
   ],
   "source": [
    "mydb = download_mongodb(mc)\n",
    "len(mydb)"
   ]
  },
  {
   "cell_type": "markdown",
   "metadata": {},
   "source": [
    "# Comment Extraction, Ratings List"
   ]
  },
  {
   "cell_type": "code",
   "execution_count": 10,
   "metadata": {},
   "outputs": [
    {
     "data": {
      "text/plain": [
       "30724"
      ]
     },
     "execution_count": 10,
     "metadata": {},
     "output_type": "execute_result"
    }
   ],
   "source": [
    "ratingslist = extract_user_comments(mydb)\n",
    "len(ratingslist)"
   ]
  },
  {
   "cell_type": "markdown",
   "metadata": {},
   "source": [
    "# Ratings Dataframe"
   ]
  },
  {
   "cell_type": "code",
   "execution_count": 11,
   "metadata": {},
   "outputs": [
    {
     "data": {
      "text/plain": [
       "(30724, 3)"
      ]
     },
     "execution_count": 11,
     "metadata": {},
     "output_type": "execute_result"
    }
   ],
   "source": [
    "ratingsdf = pd.DataFrame(ratingslist, columns = ['user', 'tab', 'rating'])\n",
    "ratingsdf.shape"
   ]
  },
  {
   "cell_type": "code",
   "execution_count": 12,
   "metadata": {},
   "outputs": [],
   "source": [
    "ratingsdf.to_csv('ratingsdf.csv', sep='~')"
   ]
  },
  {
   "cell_type": "code",
   "execution_count": 16,
   "metadata": {},
   "outputs": [
    {
     "data": {
      "text/plain": [
       "(30724, 3)"
      ]
     },
     "execution_count": 16,
     "metadata": {},
     "output_type": "execute_result"
    }
   ],
   "source": [
    "ratingsdf = pd.read_csv('ratingsdf.csv', sep='~', usecols = ['user', 'tab', 'rating'])\n",
    "ratingsdf.shape"
   ]
  },
  {
   "cell_type": "markdown",
   "metadata": {},
   "source": [
    "# Assign Numeric ID Numbers"
   ]
  },
  {
   "cell_type": "code",
   "execution_count": 17,
   "metadata": {},
   "outputs": [
    {
     "data": {
      "text/html": [
       "<div>\n",
       "<style scoped>\n",
       "    .dataframe tbody tr th:only-of-type {\n",
       "        vertical-align: middle;\n",
       "    }\n",
       "\n",
       "    .dataframe tbody tr th {\n",
       "        vertical-align: top;\n",
       "    }\n",
       "\n",
       "    .dataframe thead th {\n",
       "        text-align: right;\n",
       "    }\n",
       "</style>\n",
       "<table border=\"1\" class=\"dataframe\">\n",
       "  <thead>\n",
       "    <tr style=\"text-align: right;\">\n",
       "      <th></th>\n",
       "      <th>user</th>\n",
       "      <th>tab</th>\n",
       "      <th>rating</th>\n",
       "    </tr>\n",
       "  </thead>\n",
       "  <tbody>\n",
       "    <tr>\n",
       "      <th>0</th>\n",
       "      <td>200001</td>\n",
       "      <td>313000</td>\n",
       "      <td>0.0000</td>\n",
       "    </tr>\n",
       "    <tr>\n",
       "      <th>1</th>\n",
       "      <td>200002</td>\n",
       "      <td>313000</td>\n",
       "      <td>0.7096</td>\n",
       "    </tr>\n",
       "    <tr>\n",
       "      <th>2</th>\n",
       "      <td>200003</td>\n",
       "      <td>313000</td>\n",
       "      <td>0.7096</td>\n",
       "    </tr>\n",
       "    <tr>\n",
       "      <th>3</th>\n",
       "      <td>200004</td>\n",
       "      <td>313000</td>\n",
       "      <td>0.3296</td>\n",
       "    </tr>\n",
       "    <tr>\n",
       "      <th>4</th>\n",
       "      <td>200005</td>\n",
       "      <td>313000</td>\n",
       "      <td>0.3296</td>\n",
       "    </tr>\n",
       "  </tbody>\n",
       "</table>\n",
       "</div>"
      ],
      "text/plain": [
       "     user     tab  rating\n",
       "0  200001  313000  0.0000\n",
       "1  200002  313000  0.7096\n",
       "2  200003  313000  0.7096\n",
       "3  200004  313000  0.3296\n",
       "4  200005  313000  0.3296"
      ]
     },
     "execution_count": 17,
     "metadata": {},
     "output_type": "execute_result"
    }
   ],
   "source": [
    "idratingsdf = assign_id_numbers(ratingsdf)\n",
    "idratingsdf.head()"
   ]
  },
  {
   "cell_type": "code",
   "execution_count": 52,
   "metadata": {},
   "outputs": [
    {
     "data": {
      "text/plain": [
       "(30724, 3)"
      ]
     },
     "execution_count": 52,
     "metadata": {},
     "output_type": "execute_result"
    }
   ],
   "source": [
    "idratingsdf.to_csv('idratingsdf.csv', sep='~', header = False)\n",
    "idratingsdf.shape"
   ]
  },
  {
   "cell_type": "code",
   "execution_count": 53,
   "metadata": {},
   "outputs": [
    {
     "name": "stdout",
     "output_type": "stream",
     "text": [
      "<class 'pandas.core.frame.DataFrame'>\n",
      "RangeIndex: 30724 entries, 0 to 30723\n",
      "Data columns (total 3 columns):\n",
      "user      30724 non-null object\n",
      "tab       30724 non-null object\n",
      "rating    30724 non-null float64\n",
      "dtypes: float64(1), object(2)\n",
      "memory usage: 720.2+ KB\n"
     ]
    }
   ],
   "source": [
    "idratingsdf.info()"
   ]
  },
  {
   "cell_type": "markdown",
   "metadata": {},
   "source": [
    "# ALS Model"
   ]
  },
  {
   "cell_type": "code",
   "execution_count": 68,
   "metadata": {},
   "outputs": [],
   "source": [
    "ratings_schema = StructType([\n",
    "    StructField('index', IntegerType(), False),\n",
    "    StructField('user', IntegerType(), False),\n",
    "    StructField('tab', IntegerType(),False),\n",
    "    StructField('rating', FloatType(), False)\n",
    "])"
   ]
  },
  {
   "cell_type": "code",
   "execution_count": 76,
   "metadata": {},
   "outputs": [],
   "source": [
    "ratings_data = spark.read.csv('idratingsdf.csv', sep='~', schema=ratings_schema).persist()"
   ]
  },
  {
   "cell_type": "code",
   "execution_count": 88,
   "metadata": {},
   "outputs": [],
   "source": [
    "ratings_data2 = ratings_data.filter(~reduce(lambda x, y: x & y, [ratings_data[c].isNull() for c in ratings_data.columns]))\n",
    "ratings_data2.count()"
   ]
  },
  {
   "cell_type": "code",
   "execution_count": 92,
   "metadata": {},
   "outputs": [],
   "source": [
    "ratings_df = spark.createDataFrame(ratings_data2.drop(ratings_data.index).collect())"
   ]
  },
  {
   "cell_type": "code",
   "execution_count": 94,
   "metadata": {},
   "outputs": [],
   "source": [
    "train, test = ratings_df.randomSplit([0.8, 0.2], seed=55)"
   ]
  },
  {
   "cell_type": "code",
   "execution_count": 95,
   "metadata": {},
   "outputs": [],
   "source": [
    "als_model = ALS(\n",
    "    itemCol='tab',\n",
    "    userCol='user',\n",
    "    ratingCol='rating', \n",
    "    regParam=0.05,\n",
    "    rank=10,\n",
    "    coldStartStrategy='drop') "
   ]
  },
  {
   "cell_type": "code",
   "execution_count": 96,
   "metadata": {},
   "outputs": [],
   "source": [
    "tab_rec = als_model.fit(train)"
   ]
  },
  {
   "cell_type": "code",
   "execution_count": 102,
   "metadata": {},
   "outputs": [],
   "source": [
    "tab_rec.save(\"tab_rec_model\")"
   ]
  },
  {
   "cell_type": "code",
   "execution_count": 104,
   "metadata": {},
   "outputs": [
    {
     "name": "stdout",
     "output_type": "stream",
     "text": [
      "\u001b[34mitemFactors\u001b[m\u001b[m \u001b[34mmetadata\u001b[m\u001b[m    \u001b[34muserFactors\u001b[m\u001b[m\r\n"
     ]
    }
   ],
   "source": [
    "!ls tab_rec_model/"
   ]
  },
  {
   "cell_type": "code",
   "execution_count": 110,
   "metadata": {},
   "outputs": [],
   "source": [
    "tab_rec_test = ALSModel.load(\"tab_rec_model\")"
   ]
  },
  {
   "cell_type": "code",
   "execution_count": 112,
   "metadata": {},
   "outputs": [
    {
     "name": "stdout",
     "output_type": "stream",
     "text": [
      "+------+------+-------------------+-----------+\n",
      "|  user|   tab|             rating| prediction|\n",
      "+------+------+-------------------+-----------+\n",
      "|200010|313003|-0.5257999897003174|-0.08778465|\n",
      "+------+------+-------------------+-----------+\n",
      "only showing top 1 row\n",
      "\n"
     ]
    }
   ],
   "source": [
    "test_preds_test = tab_rec_test.transform(test)\n",
    "test_preds_test.show(1)"
   ]
  },
  {
   "cell_type": "code",
   "execution_count": 97,
   "metadata": {},
   "outputs": [],
   "source": [
    "train_preds = tab_rec.transform(train)\n",
    "#train_preds.show()"
   ]
  },
  {
   "cell_type": "code",
   "execution_count": 98,
   "metadata": {},
   "outputs": [],
   "source": [
    "test_preds = tab_rec.transform(test)\n",
    "#test_preds.show()"
   ]
  },
  {
   "cell_type": "markdown",
   "metadata": {},
   "source": [
    "# Cold Start"
   ]
  },
  {
   "cell_type": "code",
   "execution_count": null,
   "metadata": {},
   "outputs": [],
   "source": [
    "#user_factors = tab_rec.userFactors.collect()\n",
    "#user_factors_df = tab_rec.userFactors.toPandas()\n",
    "#user_factors_arr = np.array(user_factors_df['features'].tolist())\n",
    "#user_factors_arr.shape"
   ]
  },
  {
   "cell_type": "code",
   "execution_count": null,
   "metadata": {},
   "outputs": [],
   "source": [
    "#item_factors = tab_rec.itemFactors.collect()\n",
    "#item_factors_df = tab_rec.itemFactors.toPandas()\n",
    "#item_factors_arr = np.array(item_factors_df['features'].tolist())\n",
    "#item_factors_arr.shape"
   ]
  },
  {
   "cell_type": "markdown",
   "metadata": {},
   "source": [
    "# Insert Code to generate initial ratings via survey"
   ]
  },
  {
   "cell_type": "code",
   "execution_count": null,
   "metadata": {},
   "outputs": [],
   "source": [
    "#user_ratings = \"\"\"train[train['user']==201598]\"\"\"   <==== These ratings will be generated via survey"
   ]
  },
  {
   "cell_type": "code",
   "execution_count": null,
   "metadata": {},
   "outputs": [],
   "source": [
    "#tab_idxs = get_tab_idxs(user_ratings_df, item_factors_df)"
   ]
  },
  {
   "cell_type": "code",
   "execution_count": null,
   "metadata": {},
   "outputs": [],
   "source": [
    "#item_factors_arr[tab_idxs]\n",
    "#ratings = user_ratings_df['rating']\n",
    "#ratings.values.reshape(-1,1)"
   ]
  },
  {
   "cell_type": "code",
   "execution_count": null,
   "metadata": {},
   "outputs": [],
   "source": [
    "#X, residuals, rank, s = np.linalg.lstsq(item_factors_arr[tab_idxs], ratings.values, rcond=None)"
   ]
  },
  {
   "cell_type": "code",
   "execution_count": null,
   "metadata": {},
   "outputs": [],
   "source": [
    "#newuser_factors = X\n",
    "#new_user_df = new_user_predict(newuser_factors, item_factors_arr)\n",
    "#new_user_df"
   ]
  },
  {
   "cell_type": "markdown",
   "metadata": {},
   "source": [
    "# Pickling"
   ]
  },
  {
   "cell_type": "code",
   "execution_count": 101,
   "metadata": {},
   "outputs": [],
   "source": [
    "import pickle"
   ]
  },
  {
   "cell_type": "code",
   "execution_count": 113,
   "metadata": {},
   "outputs": [],
   "source": [
    "user_factors_df = tab_rec.userFactors.toPandas()\n"
   ]
  },
  {
   "cell_type": "code",
   "execution_count": 114,
   "metadata": {},
   "outputs": [],
   "source": [
    "user_factors_df.to_pickle('user_factors.pkl')"
   ]
  },
  {
   "cell_type": "code",
   "execution_count": 115,
   "metadata": {},
   "outputs": [],
   "source": [
    "user_factors_df_test = pd.read_pickle('user_factors.pkl')"
   ]
  },
  {
   "cell_type": "code",
   "execution_count": 116,
   "metadata": {},
   "outputs": [
    {
     "data": {
      "text/html": [
       "<div>\n",
       "<style scoped>\n",
       "    .dataframe tbody tr th:only-of-type {\n",
       "        vertical-align: middle;\n",
       "    }\n",
       "\n",
       "    .dataframe tbody tr th {\n",
       "        vertical-align: top;\n",
       "    }\n",
       "\n",
       "    .dataframe thead th {\n",
       "        text-align: right;\n",
       "    }\n",
       "</style>\n",
       "<table border=\"1\" class=\"dataframe\">\n",
       "  <thead>\n",
       "    <tr style=\"text-align: right;\">\n",
       "      <th></th>\n",
       "      <th>id</th>\n",
       "      <th>features</th>\n",
       "    </tr>\n",
       "  </thead>\n",
       "  <tbody>\n",
       "    <tr>\n",
       "      <th>0</th>\n",
       "      <td>200010</td>\n",
       "      <td>[-0.17132942378520966, -0.2985149621963501, 0....</td>\n",
       "    </tr>\n",
       "    <tr>\n",
       "      <th>1</th>\n",
       "      <td>200020</td>\n",
       "      <td>[0.3393862843513489, 0.18049797415733337, -0.0...</td>\n",
       "    </tr>\n",
       "    <tr>\n",
       "      <th>2</th>\n",
       "      <td>200030</td>\n",
       "      <td>[0.08033595234155655, 0.2997550666332245, 0.36...</td>\n",
       "    </tr>\n",
       "    <tr>\n",
       "      <th>3</th>\n",
       "      <td>200040</td>\n",
       "      <td>[0.0, 0.0, 0.0, 0.0, 0.0, 0.0, 0.0, 0.0, 0.0, ...</td>\n",
       "    </tr>\n",
       "    <tr>\n",
       "      <th>4</th>\n",
       "      <td>200050</td>\n",
       "      <td>[0.09635399281978607, 0.011810912750661373, 0....</td>\n",
       "    </tr>\n",
       "    <tr>\n",
       "      <th>5</th>\n",
       "      <td>200060</td>\n",
       "      <td>[-0.3788469731807709, 0.13050466775894165, 0.2...</td>\n",
       "    </tr>\n",
       "    <tr>\n",
       "      <th>6</th>\n",
       "      <td>200070</td>\n",
       "      <td>[0.06744886934757233, 0.008267770521342754, 0....</td>\n",
       "    </tr>\n",
       "    <tr>\n",
       "      <th>7</th>\n",
       "      <td>200080</td>\n",
       "      <td>[-0.15907622873783112, -0.03999718278646469, 0...</td>\n",
       "    </tr>\n",
       "    <tr>\n",
       "      <th>8</th>\n",
       "      <td>200090</td>\n",
       "      <td>[-0.6588613390922546, 0.3464178144931793, 0.27...</td>\n",
       "    </tr>\n",
       "    <tr>\n",
       "      <th>9</th>\n",
       "      <td>200110</td>\n",
       "      <td>[0.024425795301795006, 0.0029940735548734665, ...</td>\n",
       "    </tr>\n",
       "    <tr>\n",
       "      <th>10</th>\n",
       "      <td>200120</td>\n",
       "      <td>[0.0, 0.0, 0.0, 0.0, 0.0, 0.0, 0.0, 0.0, 0.0, ...</td>\n",
       "    </tr>\n",
       "    <tr>\n",
       "      <th>11</th>\n",
       "      <td>200130</td>\n",
       "      <td>[0.06800874322652817, 0.03426480293273926, 0.5...</td>\n",
       "    </tr>\n",
       "    <tr>\n",
       "      <th>12</th>\n",
       "      <td>200140</td>\n",
       "      <td>[0.22308973968029022, -0.09413573890924454, 0....</td>\n",
       "    </tr>\n",
       "    <tr>\n",
       "      <th>13</th>\n",
       "      <td>200160</td>\n",
       "      <td>[0.37404701113700867, 0.23865506052970886, 0.0...</td>\n",
       "    </tr>\n",
       "    <tr>\n",
       "      <th>14</th>\n",
       "      <td>200170</td>\n",
       "      <td>[0.0016134532634168863, 0.10120949149131775, 0...</td>\n",
       "    </tr>\n",
       "    <tr>\n",
       "      <th>15</th>\n",
       "      <td>200180</td>\n",
       "      <td>[-0.03194889798760414, -0.003916243091225624, ...</td>\n",
       "    </tr>\n",
       "    <tr>\n",
       "      <th>16</th>\n",
       "      <td>200190</td>\n",
       "      <td>[-0.28650036454200745, -0.40131738781929016, 0...</td>\n",
       "    </tr>\n",
       "    <tr>\n",
       "      <th>17</th>\n",
       "      <td>200200</td>\n",
       "      <td>[0.038986291736364365, 0.004778875038027763, 0...</td>\n",
       "    </tr>\n",
       "    <tr>\n",
       "      <th>18</th>\n",
       "      <td>200210</td>\n",
       "      <td>[0.05632687732577324, 0.513581395149231, 0.439...</td>\n",
       "    </tr>\n",
       "    <tr>\n",
       "      <th>19</th>\n",
       "      <td>200220</td>\n",
       "      <td>[0.0, 0.0, 0.0, 0.0, 0.0, 0.0, 0.0, 0.0, 0.0, ...</td>\n",
       "    </tr>\n",
       "    <tr>\n",
       "      <th>20</th>\n",
       "      <td>200230</td>\n",
       "      <td>[0.09691525250673294, 0.011879711411893368, 0....</td>\n",
       "    </tr>\n",
       "    <tr>\n",
       "      <th>21</th>\n",
       "      <td>200240</td>\n",
       "      <td>[0.0, 0.0, 0.0, 0.0, 0.0, 0.0, 0.0, 0.0, 0.0, ...</td>\n",
       "    </tr>\n",
       "    <tr>\n",
       "      <th>22</th>\n",
       "      <td>200250</td>\n",
       "      <td>[-0.006314086262136698, -0.20924927294254303, ...</td>\n",
       "    </tr>\n",
       "    <tr>\n",
       "      <th>23</th>\n",
       "      <td>200260</td>\n",
       "      <td>[-0.038986291736364365, -0.004778875038027763,...</td>\n",
       "    </tr>\n",
       "    <tr>\n",
       "      <th>24</th>\n",
       "      <td>200270</td>\n",
       "      <td>[-0.21650488674640656, 0.22904624044895172, 0....</td>\n",
       "    </tr>\n",
       "    <tr>\n",
       "      <th>25</th>\n",
       "      <td>200290</td>\n",
       "      <td>[0.05317980423569679, 0.006518692709505558, 0....</td>\n",
       "    </tr>\n",
       "    <tr>\n",
       "      <th>26</th>\n",
       "      <td>200300</td>\n",
       "      <td>[0.0, 0.0, 0.0, 0.0, 0.0, 0.0, 0.0, 0.0, 0.0, ...</td>\n",
       "    </tr>\n",
       "    <tr>\n",
       "      <th>27</th>\n",
       "      <td>200310</td>\n",
       "      <td>[0.0, 0.0, 0.0, 0.0, 0.0, 0.0, 0.0, 0.0, 0.0, ...</td>\n",
       "    </tr>\n",
       "    <tr>\n",
       "      <th>28</th>\n",
       "      <td>200320</td>\n",
       "      <td>[0.03434506431221962, 0.004209961276501417, 0....</td>\n",
       "    </tr>\n",
       "    <tr>\n",
       "      <th>29</th>\n",
       "      <td>200360</td>\n",
       "      <td>[0.0, 0.0, 0.0, 0.0, 0.0, 0.0, 0.0, 0.0, 0.0, ...</td>\n",
       "    </tr>\n",
       "    <tr>\n",
       "      <th>...</th>\n",
       "      <td>...</td>\n",
       "      <td>...</td>\n",
       "    </tr>\n",
       "    <tr>\n",
       "      <th>20168</th>\n",
       "      <td>224129</td>\n",
       "      <td>[0.0, 0.0, 0.0, 0.0, 0.0, 0.0, 0.0, 0.0, 0.0, ...</td>\n",
       "    </tr>\n",
       "    <tr>\n",
       "      <th>20169</th>\n",
       "      <td>224149</td>\n",
       "      <td>[-0.10665785521268845, 0.12686984241008759, 0....</td>\n",
       "    </tr>\n",
       "    <tr>\n",
       "      <th>20170</th>\n",
       "      <td>224159</td>\n",
       "      <td>[0.0, 0.0, 0.0, 0.0, 0.0, 0.0, 0.0, 0.0, 0.0, ...</td>\n",
       "    </tr>\n",
       "    <tr>\n",
       "      <th>20171</th>\n",
       "      <td>224169</td>\n",
       "      <td>[-0.05598706752061844, -0.8520759344100952, -0...</td>\n",
       "    </tr>\n",
       "    <tr>\n",
       "      <th>20172</th>\n",
       "      <td>224179</td>\n",
       "      <td>[0.0, 0.0, 0.0, 0.0, 0.0, 0.0, 0.0, 0.0, 0.0, ...</td>\n",
       "    </tr>\n",
       "    <tr>\n",
       "      <th>20173</th>\n",
       "      <td>224189</td>\n",
       "      <td>[0.14047308266162872, -0.13549058139324188, 0....</td>\n",
       "    </tr>\n",
       "    <tr>\n",
       "      <th>20174</th>\n",
       "      <td>224199</td>\n",
       "      <td>[0.0, 0.0, 0.0, 0.0, 0.0, 0.0, 0.0, 0.0, 0.0, ...</td>\n",
       "    </tr>\n",
       "    <tr>\n",
       "      <th>20175</th>\n",
       "      <td>224209</td>\n",
       "      <td>[0.2825410068035126, -0.27251943945884705, 0.1...</td>\n",
       "    </tr>\n",
       "    <tr>\n",
       "      <th>20176</th>\n",
       "      <td>224239</td>\n",
       "      <td>[-0.25245702266693115, -0.3224104642868042, 0....</td>\n",
       "    </tr>\n",
       "    <tr>\n",
       "      <th>20177</th>\n",
       "      <td>224249</td>\n",
       "      <td>[-0.1372283399105072, -0.1752529889345169, 0.1...</td>\n",
       "    </tr>\n",
       "    <tr>\n",
       "      <th>20178</th>\n",
       "      <td>224259</td>\n",
       "      <td>[0.14680923521518707, -0.5587223768234253, -0....</td>\n",
       "    </tr>\n",
       "    <tr>\n",
       "      <th>20179</th>\n",
       "      <td>224289</td>\n",
       "      <td>[0.0, 0.0, 0.0, 0.0, 0.0, 0.0, 0.0, 0.0, 0.0, ...</td>\n",
       "    </tr>\n",
       "    <tr>\n",
       "      <th>20180</th>\n",
       "      <td>224299</td>\n",
       "      <td>[-0.07120884954929352, 0.023446625098586082, -...</td>\n",
       "    </tr>\n",
       "    <tr>\n",
       "      <th>20181</th>\n",
       "      <td>224319</td>\n",
       "      <td>[-0.2777458131313324, 0.2543303966522217, -0.0...</td>\n",
       "    </tr>\n",
       "    <tr>\n",
       "      <th>20182</th>\n",
       "      <td>224329</td>\n",
       "      <td>[0.01523198839277029, -0.01949509233236313, 0....</td>\n",
       "    </tr>\n",
       "    <tr>\n",
       "      <th>20183</th>\n",
       "      <td>224339</td>\n",
       "      <td>[-0.19322480261325836, -0.10902080684900284, 0...</td>\n",
       "    </tr>\n",
       "    <tr>\n",
       "      <th>20184</th>\n",
       "      <td>224349</td>\n",
       "      <td>[0.0, 0.0, 0.0, 0.0, 0.0, 0.0, 0.0, 0.0, 0.0, ...</td>\n",
       "    </tr>\n",
       "    <tr>\n",
       "      <th>20185</th>\n",
       "      <td>224359</td>\n",
       "      <td>[-0.09107038378715515, -0.09826667606830597, 0...</td>\n",
       "    </tr>\n",
       "    <tr>\n",
       "      <th>20186</th>\n",
       "      <td>224369</td>\n",
       "      <td>[-0.10162395238876343, -0.10965418070554733, 0...</td>\n",
       "    </tr>\n",
       "    <tr>\n",
       "      <th>20187</th>\n",
       "      <td>224379</td>\n",
       "      <td>[0.14161795377731323, -0.26693639159202576, 0....</td>\n",
       "    </tr>\n",
       "    <tr>\n",
       "      <th>20188</th>\n",
       "      <td>224399</td>\n",
       "      <td>[0.35143160820007324, 0.10670136660337448, 0.1...</td>\n",
       "    </tr>\n",
       "    <tr>\n",
       "      <th>20189</th>\n",
       "      <td>224409</td>\n",
       "      <td>[0.0, 0.0, 0.0, 0.0, 0.0, 0.0, 0.0, 0.0, 0.0, ...</td>\n",
       "    </tr>\n",
       "    <tr>\n",
       "      <th>20190</th>\n",
       "      <td>224429</td>\n",
       "      <td>[-0.10134206712245941, 0.04978051409125328, 0....</td>\n",
       "    </tr>\n",
       "    <tr>\n",
       "      <th>20191</th>\n",
       "      <td>224449</td>\n",
       "      <td>[0.0, 0.0, 0.0, 0.0, 0.0, 0.0, 0.0, 0.0, 0.0, ...</td>\n",
       "    </tr>\n",
       "    <tr>\n",
       "      <th>20192</th>\n",
       "      <td>224459</td>\n",
       "      <td>[0.14151747524738312, -0.35585466027259827, 0....</td>\n",
       "    </tr>\n",
       "    <tr>\n",
       "      <th>20193</th>\n",
       "      <td>224469</td>\n",
       "      <td>[0.05875415354967117, -0.14774103462696075, 0....</td>\n",
       "    </tr>\n",
       "    <tr>\n",
       "      <th>20194</th>\n",
       "      <td>224479</td>\n",
       "      <td>[0.0, 0.0, 0.0, 0.0, 0.0, 0.0, 0.0, 0.0, 0.0, ...</td>\n",
       "    </tr>\n",
       "    <tr>\n",
       "      <th>20195</th>\n",
       "      <td>224489</td>\n",
       "      <td>[-0.8237269520759583, -0.3962966501712799, 0.2...</td>\n",
       "    </tr>\n",
       "    <tr>\n",
       "      <th>20196</th>\n",
       "      <td>224499</td>\n",
       "      <td>[-0.21046116948127747, -0.22765247523784637, -...</td>\n",
       "    </tr>\n",
       "    <tr>\n",
       "      <th>20197</th>\n",
       "      <td>224509</td>\n",
       "      <td>[-0.1353566199541092, -0.14641307294368744, -0...</td>\n",
       "    </tr>\n",
       "  </tbody>\n",
       "</table>\n",
       "<p>20198 rows × 2 columns</p>\n",
       "</div>"
      ],
      "text/plain": [
       "           id                                           features\n",
       "0      200010  [-0.17132942378520966, -0.2985149621963501, 0....\n",
       "1      200020  [0.3393862843513489, 0.18049797415733337, -0.0...\n",
       "2      200030  [0.08033595234155655, 0.2997550666332245, 0.36...\n",
       "3      200040  [0.0, 0.0, 0.0, 0.0, 0.0, 0.0, 0.0, 0.0, 0.0, ...\n",
       "4      200050  [0.09635399281978607, 0.011810912750661373, 0....\n",
       "5      200060  [-0.3788469731807709, 0.13050466775894165, 0.2...\n",
       "6      200070  [0.06744886934757233, 0.008267770521342754, 0....\n",
       "7      200080  [-0.15907622873783112, -0.03999718278646469, 0...\n",
       "8      200090  [-0.6588613390922546, 0.3464178144931793, 0.27...\n",
       "9      200110  [0.024425795301795006, 0.0029940735548734665, ...\n",
       "10     200120  [0.0, 0.0, 0.0, 0.0, 0.0, 0.0, 0.0, 0.0, 0.0, ...\n",
       "11     200130  [0.06800874322652817, 0.03426480293273926, 0.5...\n",
       "12     200140  [0.22308973968029022, -0.09413573890924454, 0....\n",
       "13     200160  [0.37404701113700867, 0.23865506052970886, 0.0...\n",
       "14     200170  [0.0016134532634168863, 0.10120949149131775, 0...\n",
       "15     200180  [-0.03194889798760414, -0.003916243091225624, ...\n",
       "16     200190  [-0.28650036454200745, -0.40131738781929016, 0...\n",
       "17     200200  [0.038986291736364365, 0.004778875038027763, 0...\n",
       "18     200210  [0.05632687732577324, 0.513581395149231, 0.439...\n",
       "19     200220  [0.0, 0.0, 0.0, 0.0, 0.0, 0.0, 0.0, 0.0, 0.0, ...\n",
       "20     200230  [0.09691525250673294, 0.011879711411893368, 0....\n",
       "21     200240  [0.0, 0.0, 0.0, 0.0, 0.0, 0.0, 0.0, 0.0, 0.0, ...\n",
       "22     200250  [-0.006314086262136698, -0.20924927294254303, ...\n",
       "23     200260  [-0.038986291736364365, -0.004778875038027763,...\n",
       "24     200270  [-0.21650488674640656, 0.22904624044895172, 0....\n",
       "25     200290  [0.05317980423569679, 0.006518692709505558, 0....\n",
       "26     200300  [0.0, 0.0, 0.0, 0.0, 0.0, 0.0, 0.0, 0.0, 0.0, ...\n",
       "27     200310  [0.0, 0.0, 0.0, 0.0, 0.0, 0.0, 0.0, 0.0, 0.0, ...\n",
       "28     200320  [0.03434506431221962, 0.004209961276501417, 0....\n",
       "29     200360  [0.0, 0.0, 0.0, 0.0, 0.0, 0.0, 0.0, 0.0, 0.0, ...\n",
       "...       ...                                                ...\n",
       "20168  224129  [0.0, 0.0, 0.0, 0.0, 0.0, 0.0, 0.0, 0.0, 0.0, ...\n",
       "20169  224149  [-0.10665785521268845, 0.12686984241008759, 0....\n",
       "20170  224159  [0.0, 0.0, 0.0, 0.0, 0.0, 0.0, 0.0, 0.0, 0.0, ...\n",
       "20171  224169  [-0.05598706752061844, -0.8520759344100952, -0...\n",
       "20172  224179  [0.0, 0.0, 0.0, 0.0, 0.0, 0.0, 0.0, 0.0, 0.0, ...\n",
       "20173  224189  [0.14047308266162872, -0.13549058139324188, 0....\n",
       "20174  224199  [0.0, 0.0, 0.0, 0.0, 0.0, 0.0, 0.0, 0.0, 0.0, ...\n",
       "20175  224209  [0.2825410068035126, -0.27251943945884705, 0.1...\n",
       "20176  224239  [-0.25245702266693115, -0.3224104642868042, 0....\n",
       "20177  224249  [-0.1372283399105072, -0.1752529889345169, 0.1...\n",
       "20178  224259  [0.14680923521518707, -0.5587223768234253, -0....\n",
       "20179  224289  [0.0, 0.0, 0.0, 0.0, 0.0, 0.0, 0.0, 0.0, 0.0, ...\n",
       "20180  224299  [-0.07120884954929352, 0.023446625098586082, -...\n",
       "20181  224319  [-0.2777458131313324, 0.2543303966522217, -0.0...\n",
       "20182  224329  [0.01523198839277029, -0.01949509233236313, 0....\n",
       "20183  224339  [-0.19322480261325836, -0.10902080684900284, 0...\n",
       "20184  224349  [0.0, 0.0, 0.0, 0.0, 0.0, 0.0, 0.0, 0.0, 0.0, ...\n",
       "20185  224359  [-0.09107038378715515, -0.09826667606830597, 0...\n",
       "20186  224369  [-0.10162395238876343, -0.10965418070554733, 0...\n",
       "20187  224379  [0.14161795377731323, -0.26693639159202576, 0....\n",
       "20188  224399  [0.35143160820007324, 0.10670136660337448, 0.1...\n",
       "20189  224409  [0.0, 0.0, 0.0, 0.0, 0.0, 0.0, 0.0, 0.0, 0.0, ...\n",
       "20190  224429  [-0.10134206712245941, 0.04978051409125328, 0....\n",
       "20191  224449  [0.0, 0.0, 0.0, 0.0, 0.0, 0.0, 0.0, 0.0, 0.0, ...\n",
       "20192  224459  [0.14151747524738312, -0.35585466027259827, 0....\n",
       "20193  224469  [0.05875415354967117, -0.14774103462696075, 0....\n",
       "20194  224479  [0.0, 0.0, 0.0, 0.0, 0.0, 0.0, 0.0, 0.0, 0.0, ...\n",
       "20195  224489  [-0.8237269520759583, -0.3962966501712799, 0.2...\n",
       "20196  224499  [-0.21046116948127747, -0.22765247523784637, -...\n",
       "20197  224509  [-0.1353566199541092, -0.14641307294368744, -0...\n",
       "\n",
       "[20198 rows x 2 columns]"
      ]
     },
     "execution_count": 116,
     "metadata": {},
     "output_type": "execute_result"
    }
   ],
   "source": [
    "user_factors_df_test"
   ]
  },
  {
   "cell_type": "code",
   "execution_count": null,
   "metadata": {},
   "outputs": [],
   "source": []
  }
 ],
 "metadata": {
  "kernelspec": {
   "display_name": "Python 3",
   "language": "python",
   "name": "python3"
  },
  "language_info": {
   "codemirror_mode": {
    "name": "ipython",
    "version": 3
   },
   "file_extension": ".py",
   "mimetype": "text/x-python",
   "name": "python",
   "nbconvert_exporter": "python",
   "pygments_lexer": "ipython3",
   "version": "3.6.5"
  }
 },
 "nbformat": 4,
 "nbformat_minor": 2
}
